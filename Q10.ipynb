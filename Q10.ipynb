{
 "cells": [
  {
   "cell_type": "markdown",
   "metadata": {},
   "source": [
    "## Q10. Compare DNA code\n"
   ]
  },
  {
   "cell_type": "code",
   "execution_count": 278,
   "metadata": {},
   "outputs": [],
   "source": [
    "dna1 = 'AGCTTTACGTAC'\n",
    "dna2 = 'GAATCTTTACGTCTAAC'"
   ]
  },
  {
   "cell_type": "code",
   "execution_count": 279,
   "metadata": {},
   "outputs": [
    {
     "data": {
      "text/plain": [
       "'CTTTACGT'"
      ]
     },
     "execution_count": 279,
     "metadata": {},
     "output_type": "execute_result"
    }
   ],
   "source": [
    "chain_list = []\n",
    "index = 0\n",
    "if len(dna1) < len(dna2):\n",
    "    for index in range(len(dna1)):\n",
    "        chain = dna1[index]\n",
    "        for i in range(1,len(dna1)):\n",
    "            if chain not in dna2:\n",
    "                index+=1\n",
    "                break\n",
    "            else:\n",
    "                chain_list.append(chain)\n",
    "                if i+index < len(dna1):\n",
    "                    chain += dna1[i+index]\n",
    "                    continue\n",
    "                else:\n",
    "                    break\n",
    "else:\n",
    "    for index in range(len(dna2)):\n",
    "        chain = dna2[index]\n",
    "        for i in range(1,len(dna2)):\n",
    "            if chain not in dna1:\n",
    "                index+=1\n",
    "                break\n",
    "            else:\n",
    "                chain_list.append(chain)\n",
    "                if i+index < len(dna2):\n",
    "                    chain += dna2[i+index]\n",
    "                    continue\n",
    "                else:\n",
    "                    break\n",
    "                \n",
    "max(chain_list, key= len)\n"
   ]
  }
 ],
 "metadata": {
  "kernelspec": {
   "display_name": "Python 3.10.4 64-bit",
   "language": "python",
   "name": "python3"
  },
  "language_info": {
   "codemirror_mode": {
    "name": "ipython",
    "version": 3
   },
   "file_extension": ".py",
   "mimetype": "text/x-python",
   "name": "python",
   "nbconvert_exporter": "python",
   "pygments_lexer": "ipython3",
   "version": "3.10.4"
  },
  "orig_nbformat": 4,
  "vscode": {
   "interpreter": {
    "hash": "d3b6d1b24d13dcd67e8d0aecb7930b548a6af777b06877dd910e873153d0f7a3"
   }
  }
 },
 "nbformat": 4,
 "nbformat_minor": 2
}
