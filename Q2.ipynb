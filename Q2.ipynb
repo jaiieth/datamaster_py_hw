{
 "cells": [
  {
   "cell_type": "markdown",
   "metadata": {},
   "source": [
    "## Q2. Create function \n",
    "### Given 9 digits of ISBN, calculate 10th digit of ISBN."
   ]
  },
  {
   "cell_type": "code",
   "execution_count": 19,
   "metadata": {},
   "outputs": [
    {
     "name": "stdout",
     "output_type": "stream",
     "text": [
      "Enter only number\n",
      "Enter only number\n",
      "0000001236\n",
      "0012345679\n",
      "1000000001\n",
      "Exit\n"
     ]
    }
   ],
   "source": [
    "def getinput():\n",
    "    return input('(Enter q to exit)ISBN: ')\n",
    "def isbn_cal():\n",
    "    x = ''\n",
    "    while x.lower() != 'q':\n",
    "        x = getinput()\n",
    "        try:\n",
    "            if x.lower() == 'q': # Exit\n",
    "                print('Exit')\n",
    "            elif len(x) > 9:\n",
    "                print('Please enter only 9 or less digits')\n",
    "            elif len(x) <= 9 : # add 0s infront of input if input length < 9 \n",
    "                while len(x) <9:\n",
    "                    x = '0'+x\n",
    "\n",
    "                n = 10\n",
    "                total = 0\n",
    "                while n > 1 and len(x)==9:\n",
    "                    for i in x:\n",
    "                        total += n*int(i)\n",
    "                        n -= 1\n",
    "                for d10 in range(10): \n",
    "                    if (total + d10) % 11 == 0:\n",
    "                        print(x+str(d10))\n",
    "        except:\n",
    "            print('Enter only number')\n",
    "\n",
    "isbn_cal()"
   ]
  }
 ],
 "metadata": {
  "kernelspec": {
   "display_name": "Python 3.10.4 64-bit",
   "language": "python",
   "name": "python3"
  },
  "language_info": {
   "codemirror_mode": {
    "name": "ipython",
    "version": 3
   },
   "file_extension": ".py",
   "mimetype": "text/x-python",
   "name": "python",
   "nbconvert_exporter": "python",
   "pygments_lexer": "ipython3",
   "version": "3.10.4"
  },
  "orig_nbformat": 4,
  "vscode": {
   "interpreter": {
    "hash": "d3b6d1b24d13dcd67e8d0aecb7930b548a6af777b06877dd910e873153d0f7a3"
   }
  }
 },
 "nbformat": 4,
 "nbformat_minor": 2
}
