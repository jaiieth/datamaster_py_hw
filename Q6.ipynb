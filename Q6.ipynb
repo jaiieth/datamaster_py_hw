{
 "cells": [
  {
   "cell_type": "markdown",
   "metadata": {},
   "source": [
    "## Q6. Random Card \n",
    "### Print card rank, suit and sum score "
   ]
  },
  {
   "cell_type": "markdown",
   "metadata": {},
   "source": [
    "Import Pandas"
   ]
  },
  {
   "cell_type": "code",
   "execution_count": 2,
   "metadata": {},
   "outputs": [],
   "source": [
    "import pandas as pd"
   ]
  },
  {
   "cell_type": "markdown",
   "metadata": {},
   "source": [
    "Function Create new deck"
   ]
  },
  {
   "cell_type": "code",
   "execution_count": 95,
   "metadata": {},
   "outputs": [],
   "source": [
    "def newdeck():\n",
    "    global deck\n",
    "    ranks = [j for i in range(0,4) for j in ['2','3','4','5','6','7','8','9','10','J','Q','K','A']]\n",
    "    suit = ['Heart','Spade','Club','Diamond']\n",
    "    suits = [i for i in suit for j in range(0,13)]\n",
    "    values = [j for i in range(0,4) for j in [2,3,4,5,6,7,8,9,10,10,10,10,1]]\n",
    "    deck = pd.DataFrame({'rank':ranks,\n",
    "                        'suit':suits,\n",
    "                        'value':values})\n",
    "newdeck()"
   ]
  },
  {
   "cell_type": "markdown",
   "metadata": {},
   "source": [
    "Function Draw"
   ]
  },
  {
   "cell_type": "code",
   "execution_count": 96,
   "metadata": {},
   "outputs": [
    {
     "name": "stdout",
     "output_type": "stream",
     "text": [
      "You got: [7 Diamond] and [4 Spade]\n",
      "Score :11\n"
     ]
    },
    {
     "name": "stderr",
     "output_type": "stream",
     "text": [
      "C:\\Users\\midzt\\AppData\\Local\\Temp\\ipykernel_17004\\3055549677.py:5: FutureWarning: The behavior of `series[i:j]` with an integer-dtype index is deprecated. In a future version, this will be treated as *label-based* indexing, consistent with e.g. `series[i]` lookups. To retain the old behavior, use `series.iloc[i:j]`. To get the future behavior, use `series.loc[i:j]`.\n",
      "  print(f\"Score :{cards['value'][:2].sum()}\")\n"
     ]
    }
   ],
   "source": [
    "def draw():\n",
    "    global deck\n",
    "    cards = deck.sample(2)\n",
    "    print(f\"You got: [{cards.iloc[1,0]} {cards.iloc[1,1]}] and [{cards.iloc[0,0]} {cards.iloc[0,1]}]\")\n",
    "    print(f\"Score :{cards['value'][:2].sum()}\")\n",
    "    deck = deck.drop(cards.index)\n",
    "\n",
    "draw()"
   ]
  }
 ],
 "metadata": {
  "kernelspec": {
   "display_name": "Python 3.10.4 64-bit",
   "language": "python",
   "name": "python3"
  },
  "language_info": {
   "codemirror_mode": {
    "name": "ipython",
    "version": 3
   },
   "file_extension": ".py",
   "mimetype": "text/x-python",
   "name": "python",
   "nbconvert_exporter": "python",
   "pygments_lexer": "ipython3",
   "version": "3.10.4"
  },
  "orig_nbformat": 4,
  "vscode": {
   "interpreter": {
    "hash": "d3b6d1b24d13dcd67e8d0aecb7930b548a6af777b06877dd910e873153d0f7a3"
   }
  }
 },
 "nbformat": 4,
 "nbformat_minor": 2
}
