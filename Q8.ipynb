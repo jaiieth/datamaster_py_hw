{
 "cells": [
  {
   "cell_type": "markdown",
   "metadata": {},
   "source": [
    "## Q8. เขียนโปรแกรม เรียงข้อมูลจาก code (รหัสวิชา)\n"
   ]
  },
  {
   "cell_type": "code",
   "execution_count": 3,
   "metadata": {},
   "outputs": [],
   "source": [
    "dic_list = [{\"code\": \"CSE-401\", \"name\":\"Multimedia\", \"Credit\": 2.0},\n",
    "            {\"code\": \"CSE-101\", \"name\":\"Computer Fundamental\", \"Credit\": 1.5},\n",
    "            {\"code\": \"CSE-305\", \"name\": \"Unix Programming\", \"Credit\": 3.0}]\n"
   ]
  },
  {
   "cell_type": "code",
   "execution_count": 17,
   "metadata": {},
   "outputs": [
    {
     "data": {
      "text/plain": [
       "[{'code': 'CSE-101', 'name': 'Computer Fundamental', 'Credit': 1.5},\n",
       " {'code': 'CSE-305', 'name': 'Unix Programming', 'Credit': 3.0},\n",
       " {'code': 'CSE-401', 'name': 'Multimedia', 'Credit': 2.0}]"
      ]
     },
     "execution_count": 17,
     "metadata": {},
     "output_type": "execute_result"
    }
   ],
   "source": [
    "dic_list = sorted(dic_list, key=lambda d: d['code']) \n",
    "dic_list"
   ]
  }
 ],
 "metadata": {
  "kernelspec": {
   "display_name": "Python 3.10.4 64-bit",
   "language": "python",
   "name": "python3"
  },
  "language_info": {
   "codemirror_mode": {
    "name": "ipython",
    "version": 3
   },
   "file_extension": ".py",
   "mimetype": "text/x-python",
   "name": "python",
   "nbconvert_exporter": "python",
   "pygments_lexer": "ipython3",
   "version": "3.10.4"
  },
  "orig_nbformat": 4,
  "vscode": {
   "interpreter": {
    "hash": "d3b6d1b24d13dcd67e8d0aecb7930b548a6af777b06877dd910e873153d0f7a3"
   }
  }
 },
 "nbformat": 4,
 "nbformat_minor": 2
}
