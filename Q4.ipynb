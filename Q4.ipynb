{
 "cells": [
  {
   "cell_type": "markdown",
   "metadata": {},
   "source": [
    "## Q4. Matrix Addition"
   ]
  },
  {
   "cell_type": "code",
   "execution_count": 19,
   "metadata": {},
   "outputs": [
    {
     "name": "stdout",
     "output_type": "stream",
     "text": [
      "Please enter 3 numbers\n",
      "[2, 3, 4]\n",
      "[4, 3, 2]\n",
      "[2, 4, 3]\n"
     ]
    }
   ],
   "source": [
    "shape = list(map(int,(input().split())))\n",
    "matrix = []\n",
    "matrix_list = [[],[]]\n",
    "for i in [0,1]:\n",
    "    for j in range(shape[0]): # rows\n",
    "        while len(matrix) < shape[0]:\n",
    "            x = list(map(int,(input().split())))\n",
    "            if len(x) == shape[1]:\n",
    "                matrix.append(x)\n",
    "            else:\n",
    "                print(f'Please enter {shape[1]} numbers')\n",
    "            \n",
    "    matrix_list[i] = matrix\n",
    "    matrix = []\n",
    "\n",
    "matrix1 = matrix_list[0]\n",
    "matrix2 = matrix_list[1]\n",
    "result = matrix1 # To mimic the matrix shape for assigning results\n",
    "for i in range(len(matrix1)):  # rows\n",
    "    for j in range(len(matrix1[0])): # cols\n",
    "        result[i][j] = matrix1[i][j]+matrix2[i][j]\n",
    "    print(result[i])    "
   ]
  },
  {
   "cell_type": "code",
   "execution_count": 7,
   "metadata": {},
   "outputs": [
    {
     "data": {
      "text/plain": [
       "3"
      ]
     },
     "execution_count": 7,
     "metadata": {},
     "output_type": "execute_result"
    }
   ],
   "source": [
    "len(matrix1)"
   ]
  },
  {
   "cell_type": "code",
   "execution_count": 8,
   "metadata": {},
   "outputs": [
    {
     "data": {
      "text/plain": [
       "[[2, 4, 3], [2, 3, 4], [4, 3, 2]]"
      ]
     },
     "execution_count": 8,
     "metadata": {},
     "output_type": "execute_result"
    }
   ],
   "source": [
    "matrix1"
   ]
  }
 ],
 "metadata": {
  "kernelspec": {
   "display_name": "Python 3.10.4 64-bit",
   "language": "python",
   "name": "python3"
  },
  "language_info": {
   "codemirror_mode": {
    "name": "ipython",
    "version": 3
   },
   "file_extension": ".py",
   "mimetype": "text/x-python",
   "name": "python",
   "nbconvert_exporter": "python",
   "pygments_lexer": "ipython3",
   "version": "3.10.4"
  },
  "orig_nbformat": 4,
  "vscode": {
   "interpreter": {
    "hash": "d3b6d1b24d13dcd67e8d0aecb7930b548a6af777b06877dd910e873153d0f7a3"
   }
  }
 },
 "nbformat": 4,
 "nbformat_minor": 2
}
