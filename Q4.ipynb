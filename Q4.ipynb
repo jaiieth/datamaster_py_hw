{
 "cells": [
  {
   "cell_type": "markdown",
   "metadata": {},
   "source": [
    "## Q4. Matrix Addition"
   ]
  },
  {
   "cell_type": "code",
   "execution_count": 48,
   "metadata": {},
   "outputs": [
    {
     "name": "stdout",
     "output_type": "stream",
     "text": [
      "[2, 3, 4]\n",
      "[4, 3, 2]\n",
      "[2, 4, 3]\n"
     ]
    }
   ],
   "source": [
    "shape = list(map(int,(input().split())))\n",
    "matrix = []\n",
    "matrix_list = [[],[]]\n",
    "for i in [0,1]:\n",
    "    for j in range(shape[0]):\n",
    "        x = list(map(int,(input().split())))\n",
    "        matrix.append(x)\n",
    "    matrix_list[i] = matrix\n",
    "    matrix = []\n",
    "\n",
    "matrix1 = matrix_list[0]\n",
    "matrix2 = matrix_list[1]\n",
    "result = matrix1\n",
    "for i in range(len(matrix1)):\n",
    "    for j in range(len(matrix1[0])):\n",
    "        result[i][j] = matrix1[i][j]+matrix2[i][j]\n",
    "    print(result[i])    "
   ]
  }
 ],
 "metadata": {
  "kernelspec": {
   "display_name": "Python 3.10.4 64-bit",
   "language": "python",
   "name": "python3"
  },
  "language_info": {
   "codemirror_mode": {
    "name": "ipython",
    "version": 3
   },
   "file_extension": ".py",
   "mimetype": "text/x-python",
   "name": "python",
   "nbconvert_exporter": "python",
   "pygments_lexer": "ipython3",
   "version": "3.10.4"
  },
  "orig_nbformat": 4,
  "vscode": {
   "interpreter": {
    "hash": "d3b6d1b24d13dcd67e8d0aecb7930b548a6af777b06877dd910e873153d0f7a3"
   }
  }
 },
 "nbformat": 4,
 "nbformat_minor": 2
}
