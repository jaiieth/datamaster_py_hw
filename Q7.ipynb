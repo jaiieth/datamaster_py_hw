{
 "cells": [
  {
   "cell_type": "markdown",
   "metadata": {},
   "source": [
    "## Q7. Bi-gram\n",
    "Get integer input less than or equal 10 digits\n",
    "print bi-gram and frequency"
   ]
  },
  {
   "cell_type": "code",
   "execution_count": 4,
   "metadata": {},
   "outputs": [
    {
     "name": "stdout",
     "output_type": "stream",
     "text": [
      "Please enter number only\n"
     ]
    }
   ],
   "source": [
    "try:\n",
    "    num = float(input('Enter number :'))\n",
    "    num = str(num)\n",
    "    bigram_list = []\n",
    "    for i in range(0,len(num)-1): # Split number into bi-gram\n",
    "        if num[i+1] != '.' and num[i] != '.': # allow float to be entered\n",
    "            bigram_list.append(num[i]+num[i+1])\n",
    "    count = set()\n",
    "    for j in bigram_list: # Create Dict of unique bi-gram For \n",
    "        count.add(j)\n",
    "    for x in sorted(count) :\n",
    "        print(f\"{x}: {bigram_list.count(x)}\")\n",
    "except:\n",
    "    print('Please enter number only')"
   ]
  }
 ],
 "metadata": {
  "kernelspec": {
   "display_name": "Python 3.10.4 64-bit",
   "language": "python",
   "name": "python3"
  },
  "language_info": {
   "codemirror_mode": {
    "name": "ipython",
    "version": 3
   },
   "file_extension": ".py",
   "mimetype": "text/x-python",
   "name": "python",
   "nbconvert_exporter": "python",
   "pygments_lexer": "ipython3",
   "version": "3.10.4"
  },
  "orig_nbformat": 4,
  "vscode": {
   "interpreter": {
    "hash": "d3b6d1b24d13dcd67e8d0aecb7930b548a6af777b06877dd910e873153d0f7a3"
   }
  }
 },
 "nbformat": 4,
 "nbformat_minor": 2
}
