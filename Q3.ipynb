{
 "cells": [
  {
   "cell_type": "markdown",
   "metadata": {},
   "source": [
    "## Q3. Borrowing Fee\n",
    "- Display the day that lent out the most book in a week - amount of books borrowed\n",
    "- Display borrowing fees collected each day"
   ]
  },
  {
   "cell_type": "code",
   "execution_count": 17,
   "metadata": {},
   "outputs": [],
   "source": [
    "def getinput(x):\n",
    "    return list(input(\"Enter amount of borrowed book each day [{}]\"\\\n",
    "        .format(x)).split())\n",
    "def cal():\n",
    "    type = ['Fiction','Documentary','Travel','Cartoon']\n",
    "    print(f'Enter borrowing fees :{type}')\n",
    "    borrow_fee = list(map(int,input().split()))\n",
    "    allinput = []\n",
    "    for i in range(len(type)):\n",
    "        allinput.append(list(map(int,getinput(type[i]))))\n",
    "    Days = ['Mon','Tue','Wed','Thu','Fri']\n",
    "    borrows_each_day = []\n",
    "    fees_each_day = []\n",
    "    total_each_day = {}\n",
    "    borrows = 0\n",
    "    fees = 0\n",
    "    for i in range(0,len(Days)): \n",
    "        for j in range(len(allinput)):\n",
    "            borrows += allinput[j][i]\n",
    "            fees += borrow_fee[j]*allinput[j][i]\n",
    "        fees_each_day.append(fees)\n",
    "        borrows_each_day.append(borrows)\n",
    "        borrows = 0\n",
    "        fees = 0\n",
    "    for i in range(len(borrows_each_day)):\n",
    "        if borrows_each_day[i] == max(borrows_each_day):\n",
    "            print(Days[i],borrows_each_day[i])\n",
    "    print(fees_each_day)\n"
   ]
  },
  {
   "cell_type": "code",
   "execution_count": 18,
   "metadata": {},
   "outputs": [
    {
     "name": "stdout",
     "output_type": "stream",
     "text": [
      "Enter borrowing fees :['Fiction', 'Documentary', 'Travel', 'Cartoon']\n",
      "Thu 172\n",
      "[5700, 5400, 3480, 5940, 4950]\n"
     ]
    }
   ],
   "source": [
    "cal()"
   ]
  }
 ],
 "metadata": {
  "kernelspec": {
   "display_name": "Python 3.10.4 64-bit",
   "language": "python",
   "name": "python3"
  },
  "language_info": {
   "codemirror_mode": {
    "name": "ipython",
    "version": 3
   },
   "file_extension": ".py",
   "mimetype": "text/x-python",
   "name": "python",
   "nbconvert_exporter": "python",
   "pygments_lexer": "ipython3",
   "version": "3.10.4"
  },
  "orig_nbformat": 4,
  "vscode": {
   "interpreter": {
    "hash": "d3b6d1b24d13dcd67e8d0aecb7930b548a6af777b06877dd910e873153d0f7a3"
   }
  }
 },
 "nbformat": 4,
 "nbformat_minor": 2
}
