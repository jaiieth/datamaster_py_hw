{
 "cells": [
  {
   "cell_type": "markdown",
   "metadata": {},
   "source": [
    "## Q5. Mode [Statistic]"
   ]
  },
  {
   "cell_type": "code",
   "execution_count": 5,
   "metadata": {},
   "outputs": [
    {
     "name": "stdout",
     "output_type": "stream",
     "text": [
      "Mode is 1,\n",
      "Appear 5\n"
     ]
    }
   ],
   "source": [
    "input_list = []\n",
    "while '-1' not in input_list:\n",
    "    input_list.append(input('Enter number(-1 to exit) :'))\n",
    "count = set()\n",
    "dicts = {}\n",
    "for i in input_list:\n",
    "    count.add(i)\n",
    "for i in count:\n",
    "    dicts[i] = input_list.count(i)\n",
    "\n",
    "for i in range(len(dicts)):\n",
    "    num = list(dicts.items())[i][0]\n",
    "    n = list(dicts.items())[i][1]\n",
    "    if n == max(dicts.values()):\n",
    "        print(f\"Mode is {num},\")\n",
    "        print(f\"Appear {n}\")"
   ]
  }
 ],
 "metadata": {
  "kernelspec": {
   "display_name": "Python 3.10.4 64-bit",
   "language": "python",
   "name": "python3"
  },
  "language_info": {
   "codemirror_mode": {
    "name": "ipython",
    "version": 3
   },
   "file_extension": ".py",
   "mimetype": "text/x-python",
   "name": "python",
   "nbconvert_exporter": "python",
   "pygments_lexer": "ipython3",
   "version": "3.10.4"
  },
  "orig_nbformat": 4,
  "vscode": {
   "interpreter": {
    "hash": "d3b6d1b24d13dcd67e8d0aecb7930b548a6af777b06877dd910e873153d0f7a3"
   }
  }
 },
 "nbformat": 4,
 "nbformat_minor": 2
}
